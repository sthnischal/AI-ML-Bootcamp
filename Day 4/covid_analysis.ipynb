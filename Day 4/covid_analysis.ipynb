{
  "nbformat": 4,
  "nbformat_minor": 0,
  "metadata": {
    "kernelspec": {
      "display_name": "Python 3",
      "language": "python",
      "name": "python3"
    },
    "language_info": {
      "codemirror_mode": {
        "name": "ipython",
        "version": 3
      },
      "file_extension": ".py",
      "mimetype": "text/x-python",
      "name": "python",
      "nbconvert_exporter": "python",
      "pygments_lexer": "ipython3",
      "version": "3.7.6"
    },
    "colab": {
      "name": "covid analysis.ipynb",
      "provenance": [],
      "collapsed_sections": []
    }
  },
  "cells": [
    {
      "cell_type": "code",
      "metadata": {
        "id": "OrVwO-9OW79L",
        "colab_type": "code",
        "colab": {}
      },
      "source": [
        "import pandas as pd\n",
        "import plotly.express as px\n",
        "from plotly.figure_factory import create_table"
      ],
      "execution_count": 1,
      "outputs": []
    },
    {
      "cell_type": "code",
      "metadata": {
        "id": "5wotCRCkW79c",
        "colab_type": "code",
        "colab": {}
      },
      "source": [
        "# !pip install plotly"
      ],
      "execution_count": 3,
      "outputs": []
    },
    {
      "cell_type": "code",
      "metadata": {
        "id": "YKjzqvEZW79p",
        "colab_type": "code",
        "colab": {}
      },
      "source": [
        "url = 'https://raw.githubusercontent.com/sthnischal/AI-ML-Bootcamp/master/Day%204/covid.csv'\n",
        "df=pd.read_csv(url)\n",
        "df=df.drop('Unnamed: 0',axis=1)\n",
        "df['Date']=pd.to_datetime(df['Date'],dayfirst=True)"
      ],
      "execution_count": 5,
      "outputs": []
    },
    {
      "cell_type": "code",
      "metadata": {
        "id": "uYSnb8xpW792",
        "colab_type": "code",
        "colab": {
          "base_uri": "https://localhost:8080/",
          "height": 204
        },
        "outputId": "bce3728f-b864-44b7-a30b-bf28395c5417"
      },
      "source": [
        "df.head()"
      ],
      "execution_count": 6,
      "outputs": [
        {
          "output_type": "execute_result",
          "data": {
            "text/html": [
              "<div>\n",
              "<style scoped>\n",
              "    .dataframe tbody tr th:only-of-type {\n",
              "        vertical-align: middle;\n",
              "    }\n",
              "\n",
              "    .dataframe tbody tr th {\n",
              "        vertical-align: top;\n",
              "    }\n",
              "\n",
              "    .dataframe thead th {\n",
              "        text-align: right;\n",
              "    }\n",
              "</style>\n",
              "<table border=\"1\" class=\"dataframe\">\n",
              "  <thead>\n",
              "    <tr style=\"text-align: right;\">\n",
              "      <th></th>\n",
              "      <th>Date</th>\n",
              "      <th>Country</th>\n",
              "      <th>Continent</th>\n",
              "      <th>Code</th>\n",
              "      <th>Cases</th>\n",
              "      <th>Deaths</th>\n",
              "    </tr>\n",
              "  </thead>\n",
              "  <tbody>\n",
              "    <tr>\n",
              "      <th>0</th>\n",
              "      <td>2020-09-01</td>\n",
              "      <td>Afghanistan</td>\n",
              "      <td>Asia</td>\n",
              "      <td>AFG</td>\n",
              "      <td>34</td>\n",
              "      <td>4</td>\n",
              "    </tr>\n",
              "    <tr>\n",
              "      <th>1</th>\n",
              "      <td>2020-08-31</td>\n",
              "      <td>Afghanistan</td>\n",
              "      <td>Asia</td>\n",
              "      <td>AFG</td>\n",
              "      <td>19</td>\n",
              "      <td>0</td>\n",
              "    </tr>\n",
              "    <tr>\n",
              "      <th>2</th>\n",
              "      <td>2020-08-30</td>\n",
              "      <td>Afghanistan</td>\n",
              "      <td>Asia</td>\n",
              "      <td>AFG</td>\n",
              "      <td>3</td>\n",
              "      <td>0</td>\n",
              "    </tr>\n",
              "    <tr>\n",
              "      <th>3</th>\n",
              "      <td>2020-08-29</td>\n",
              "      <td>Afghanistan</td>\n",
              "      <td>Asia</td>\n",
              "      <td>AFG</td>\n",
              "      <td>11</td>\n",
              "      <td>1</td>\n",
              "    </tr>\n",
              "    <tr>\n",
              "      <th>4</th>\n",
              "      <td>2020-08-28</td>\n",
              "      <td>Afghanistan</td>\n",
              "      <td>Asia</td>\n",
              "      <td>AFG</td>\n",
              "      <td>3</td>\n",
              "      <td>0</td>\n",
              "    </tr>\n",
              "  </tbody>\n",
              "</table>\n",
              "</div>"
            ],
            "text/plain": [
              "        Date      Country Continent Code  Cases  Deaths\n",
              "0 2020-09-01  Afghanistan      Asia  AFG     34       4\n",
              "1 2020-08-31  Afghanistan      Asia  AFG     19       0\n",
              "2 2020-08-30  Afghanistan      Asia  AFG      3       0\n",
              "3 2020-08-29  Afghanistan      Asia  AFG     11       1\n",
              "4 2020-08-28  Afghanistan      Asia  AFG      3       0"
            ]
          },
          "metadata": {
            "tags": []
          },
          "execution_count": 6
        }
      ]
    },
    {
      "cell_type": "code",
      "metadata": {
        "id": "waBJBbagW7-G",
        "colab_type": "code",
        "colab": {
          "base_uri": "https://localhost:8080/",
          "height": 238
        },
        "outputId": "fec9223a-db6e-46df-bc02-7867e5bd2648"
      },
      "source": [
        "df.info()"
      ],
      "execution_count": 7,
      "outputs": [
        {
          "output_type": "stream",
          "text": [
            "<class 'pandas.core.frame.DataFrame'>\n",
            "RangeIndex: 39956 entries, 0 to 39955\n",
            "Data columns (total 6 columns):\n",
            " #   Column     Non-Null Count  Dtype         \n",
            "---  ------     --------------  -----         \n",
            " 0   Date       39956 non-null  datetime64[ns]\n",
            " 1   Country    39956 non-null  object        \n",
            " 2   Continent  39956 non-null  object        \n",
            " 3   Code       39892 non-null  object        \n",
            " 4   Cases      39956 non-null  int64         \n",
            " 5   Deaths     39956 non-null  int64         \n",
            "dtypes: datetime64[ns](1), int64(2), object(3)\n",
            "memory usage: 1.8+ MB\n"
          ],
          "name": "stdout"
        }
      ]
    },
    {
      "cell_type": "code",
      "metadata": {
        "id": "33wmplF-W7-S",
        "colab_type": "code",
        "colab": {
          "base_uri": "https://localhost:8080/",
          "height": 34
        },
        "outputId": "2c0c3351-1da1-4827-bb1e-c71f70c42661"
      },
      "source": [
        "df.shape"
      ],
      "execution_count": 8,
      "outputs": [
        {
          "output_type": "execute_result",
          "data": {
            "text/plain": [
              "(39956, 6)"
            ]
          },
          "metadata": {
            "tags": []
          },
          "execution_count": 8
        }
      ]
    },
    {
      "cell_type": "code",
      "metadata": {
        "id": "C59A2O-BW7-f",
        "colab_type": "code",
        "colab": {}
      },
      "source": [
        "#create_table(df.head())"
      ],
      "execution_count": 11,
      "outputs": []
    },
    {
      "cell_type": "code",
      "metadata": {
        "id": "Vwmyc2IUW7-w",
        "colab_type": "code",
        "colab": {}
      },
      "source": [
        "#fig=px.pie(df,values='Cases',names='Continent')\n",
        "#fig.show()"
      ],
      "execution_count": 12,
      "outputs": []
    },
    {
      "cell_type": "code",
      "metadata": {
        "id": "xhLeUEqGW7-8",
        "colab_type": "code",
        "colab": {}
      },
      "source": [
        "#fig=px.pie(df,values='Cases',names='Continent',title='Covid cases continent wise')\n",
        "#fig.show()"
      ],
      "execution_count": 13,
      "outputs": []
    },
    {
      "cell_type": "code",
      "metadata": {
        "id": "5tayeD4vW7_K",
        "colab_type": "code",
        "colab": {}
      },
      "source": [
        "#fig=px.pie(df,values='Cases',names='Continent',title='Covid cases continent wise',hole=0.5)\n",
        "#fig.show()"
      ],
      "execution_count": 14,
      "outputs": []
    },
    {
      "cell_type": "code",
      "metadata": {
        "id": "ogR49DWHW7_V",
        "colab_type": "code",
        "colab": {}
      },
      "source": [
        "#fig=px.pie(df,values='Cases',\n",
        "#           names='Continent',\n",
        "#           title='Covid cases continent wise',\n",
        "#           hole=0.5,\n",
        "#           height=500,\n",
        "#           width=500)\n",
        "#fig.show()"
      ],
      "execution_count": 15,
      "outputs": []
    },
    {
      "cell_type": "code",
      "metadata": {
        "id": "-RqZjWlsW7_h",
        "colab_type": "code",
        "colab": {}
      },
      "source": [
        "#fig=px.pie(df,values='Deaths',\n",
        "#           names='Continent',\n",
        "#           title='Covid Deaths continent wise',\n",
        "#           hole=0.5,\n",
        "#           height=500,\n",
        "#           width=500)\n",
        "#fig.show()"
      ],
      "execution_count": 16,
      "outputs": []
    },
    {
      "cell_type": "code",
      "metadata": {
        "id": "qidONQYNW7_t",
        "colab_type": "code",
        "colab": {}
      },
      "source": [
        "#def piechart(option):\n",
        "#    fig=px.pie(df,values=option,names='Continent',\n",
        "#              title='Piechart of Covid Continent wise '+option,\n",
        "#              hole=0.3,\n",
        "#              height=500,\n",
        "#              width=500)\n",
        "#    return fig.show()"
      ],
      "execution_count": 19,
      "outputs": []
    },
    {
      "cell_type": "code",
      "metadata": {
        "id": "uumw4rFrW7_3",
        "colab_type": "code",
        "colab": {}
      },
      "source": [
        "#piechart('Deaths')"
      ],
      "execution_count": 20,
      "outputs": []
    },
    {
      "cell_type": "code",
      "metadata": {
        "id": "SJ60_iwrW8AE",
        "colab_type": "code",
        "colab": {
          "base_uri": "https://localhost:8080/",
          "height": 204
        },
        "outputId": "fda35699-7a49-4f53-cc2e-add48085e7de"
      },
      "source": [
        "nepal_data=df[df['Country']=='Nepal']\n",
        "nepal_data.head(5)"
      ],
      "execution_count": 21,
      "outputs": [
        {
          "output_type": "execute_result",
          "data": {
            "text/html": [
              "<div>\n",
              "<style scoped>\n",
              "    .dataframe tbody tr th:only-of-type {\n",
              "        vertical-align: middle;\n",
              "    }\n",
              "\n",
              "    .dataframe tbody tr th {\n",
              "        vertical-align: top;\n",
              "    }\n",
              "\n",
              "    .dataframe thead th {\n",
              "        text-align: right;\n",
              "    }\n",
              "</style>\n",
              "<table border=\"1\" class=\"dataframe\">\n",
              "  <thead>\n",
              "    <tr style=\"text-align: right;\">\n",
              "      <th></th>\n",
              "      <th>Date</th>\n",
              "      <th>Country</th>\n",
              "      <th>Continent</th>\n",
              "      <th>Code</th>\n",
              "      <th>Cases</th>\n",
              "      <th>Deaths</th>\n",
              "    </tr>\n",
              "  </thead>\n",
              "  <tbody>\n",
              "    <tr>\n",
              "      <th>25746</th>\n",
              "      <td>2020-09-01</td>\n",
              "      <td>Nepal</td>\n",
              "      <td>Asia</td>\n",
              "      <td>NPL</td>\n",
              "      <td>899</td>\n",
              "      <td>7</td>\n",
              "    </tr>\n",
              "    <tr>\n",
              "      <th>25747</th>\n",
              "      <td>2020-08-31</td>\n",
              "      <td>Nepal</td>\n",
              "      <td>Asia</td>\n",
              "      <td>NPL</td>\n",
              "      <td>1221</td>\n",
              "      <td>14</td>\n",
              "    </tr>\n",
              "    <tr>\n",
              "      <th>25748</th>\n",
              "      <td>2020-08-30</td>\n",
              "      <td>Nepal</td>\n",
              "      <td>Asia</td>\n",
              "      <td>NPL</td>\n",
              "      <td>884</td>\n",
              "      <td>12</td>\n",
              "    </tr>\n",
              "    <tr>\n",
              "      <th>25749</th>\n",
              "      <td>2020-08-29</td>\n",
              "      <td>Nepal</td>\n",
              "      <td>Asia</td>\n",
              "      <td>NPL</td>\n",
              "      <td>927</td>\n",
              "      <td>12</td>\n",
              "    </tr>\n",
              "    <tr>\n",
              "      <th>25750</th>\n",
              "      <td>2020-08-28</td>\n",
              "      <td>Nepal</td>\n",
              "      <td>Asia</td>\n",
              "      <td>NPL</td>\n",
              "      <td>1111</td>\n",
              "      <td>8</td>\n",
              "    </tr>\n",
              "  </tbody>\n",
              "</table>\n",
              "</div>"
            ],
            "text/plain": [
              "            Date Country Continent Code  Cases  Deaths\n",
              "25746 2020-09-01   Nepal      Asia  NPL    899       7\n",
              "25747 2020-08-31   Nepal      Asia  NPL   1221      14\n",
              "25748 2020-08-30   Nepal      Asia  NPL    884      12\n",
              "25749 2020-08-29   Nepal      Asia  NPL    927      12\n",
              "25750 2020-08-28   Nepal      Asia  NPL   1111       8"
            ]
          },
          "metadata": {
            "tags": []
          },
          "execution_count": 21
        }
      ]
    },
    {
      "cell_type": "code",
      "metadata": {
        "id": "nrsphZXIW8AO",
        "colab_type": "code",
        "colab": {}
      },
      "source": [
        "#fig=px.bar(nepal_data,x='Date',y='Cases')\n",
        "#fig.show()"
      ],
      "execution_count": 22,
      "outputs": []
    },
    {
      "cell_type": "code",
      "metadata": {
        "id": "78SqaKqlW8AZ",
        "colab_type": "code",
        "colab": {}
      },
      "source": [
        "#fig=px.bar(nepal_data,x='Date',y='Cases',title='Daily covid update')\n",
        "#fig.show()"
      ],
      "execution_count": 23,
      "outputs": []
    },
    {
      "cell_type": "code",
      "metadata": {
        "id": "tJJnEDxZW8Ak",
        "colab_type": "code",
        "colab": {}
      },
      "source": [
        "#fig=px.bar(nepal_data,x='Date',y='Cases',title='Daily covid update',\n",
        "#          labels={'Cases':'Total Cases',\n",
        "#                 'Date':'Date from jan to sep'})\n",
        "#fig.show()"
      ],
      "execution_count": 24,
      "outputs": []
    },
    {
      "cell_type": "code",
      "metadata": {
        "id": "do_pf2UsW8Ax",
        "colab_type": "code",
        "colab": {}
      },
      "source": [
        "#fig=px.bar(nepal_data,x='Date',y='Cases',title='Daily covid update',\n",
        "#          labels={'Cases':'Total Cases',\n",
        "#                 'Date':'Date from jan to sep'},\n",
        "#          height=500,\n",
        "#          width=600)\n",
        "#fig.show()"
      ],
      "execution_count": 25,
      "outputs": []
    },
    {
      "cell_type": "code",
      "metadata": {
        "id": "Ro7Ump1cW8A7",
        "colab_type": "code",
        "colab": {}
      },
      "source": [
        "#fig=px.bar(nepal_data,x='Date',y='Cases',title='Daily covid update',\n",
        "#          labels={'Cases':'Total Cases',\n",
        "#                 'Date':'Date from jan to sep'},\n",
        "#          height=500,\n",
        "#          width=600,\n",
        "#          color='Cases')\n",
        "#fig.show()"
      ],
      "execution_count": 26,
      "outputs": []
    },
    {
      "cell_type": "code",
      "metadata": {
        "id": "eU2PLQ_6W8BF",
        "colab_type": "code",
        "colab": {}
      },
      "source": [
        "#fig=px.bar(nepal_data,x='Date',y='Cases',title='Daily covid update',\n",
        "#          labels={'Cases':'Total Cases',\n",
        "#                 'Date':'Date from jan to sep'},\n",
        "#          height=500,\n",
        "#          width=600,\n",
        "#          color='Cases',\n",
        "#          hover_name='Date')\n",
        "#fig.show()"
      ],
      "execution_count": 28,
      "outputs": []
    },
    {
      "cell_type": "code",
      "metadata": {
        "id": "lSnjFRm2W8BQ",
        "colab_type": "code",
        "colab": {}
      },
      "source": [
        "#fig=px.bar(nepal_data,x='Date',y='Deaths',title='Nepal Daily covid update',\n",
        "#          labels={'Deaths':'Total Deaths',\n",
        "#                 'Date':'Date from jan to sep'},\n",
        "#          height=500,\n",
        "#          width=600,\n",
        "#          color='Deaths',\n",
        "#          hover_name='Date')\n",
        "#fig.show()"
      ],
      "execution_count": 29,
      "outputs": []
    },
    {
      "cell_type": "code",
      "metadata": {
        "id": "72jp2_uSW8Ba",
        "colab_type": "code",
        "colab": {}
      },
      "source": [
        "def dailybar(country,option):\n",
        "    data=df[df['Country']==country]\n",
        "    if option=='Cases':\n",
        "        color='Cases'\n",
        "    else:\n",
        "        color='Deaths'\n",
        "    \n",
        "    fig=px.bar(data,x='Date',y=option,\n",
        "              title='Dialy Covid Update of '+country,\n",
        "               height=500,\n",
        "               width=900,\n",
        "               labels={\n",
        "                   'Date':'Date from jan to sep'\n",
        "                   ,'Cases':'Total Cases'\n",
        "                   ,'Deaths':'Total Deaths'\n",
        "               },\n",
        "               color=color\n",
        "              )\n",
        "    return fig.show()\n",
        "    "
      ],
      "execution_count": 30,
      "outputs": []
    },
    {
      "cell_type": "code",
      "metadata": {
        "id": "HFk7XL8gW8Bj",
        "colab_type": "code",
        "colab": {}
      },
      "source": [
        "#dailybar('India','Deaths')"
      ],
      "execution_count": 32,
      "outputs": []
    },
    {
      "cell_type": "code",
      "metadata": {
        "id": "JEnB-9yPW8Bx",
        "colab_type": "code",
        "colab": {}
      },
      "source": [
        "#fig=px.scatter(nepal_data,x='Date',y='Cases',color='Cases')\n",
        "#fig.show()"
      ],
      "execution_count": 33,
      "outputs": []
    },
    {
      "cell_type": "code",
      "metadata": {
        "id": "jfg8JJLfW8B-",
        "colab_type": "code",
        "colab": {}
      },
      "source": [
        "#fig=px.scatter(nepal_data,x='Date',y='Deaths',color='Deaths')\n",
        "#fig.show()"
      ],
      "execution_count": 34,
      "outputs": []
    },
    {
      "cell_type": "code",
      "metadata": {
        "id": "M5BDYEjDW8CN",
        "colab_type": "code",
        "colab": {}
      },
      "source": [
        "#total_data=df.groupby(by=['Country','Date','Continent','Code']).sum().groupby(level=[0]).cumsum()\n",
        "#total_data=total_data.reset_index()"
      ],
      "execution_count": 35,
      "outputs": []
    },
    {
      "cell_type": "code",
      "metadata": {
        "id": "F2O2Kw-VW8CY",
        "colab_type": "code",
        "colab": {}
      },
      "source": [
        "#nepal_data=total_data[total_data['Country']=='Nepal']\n"
      ],
      "execution_count": 36,
      "outputs": []
    },
    {
      "cell_type": "code",
      "metadata": {
        "id": "Qd9hJUhWW8Ch",
        "colab_type": "code",
        "colab": {}
      },
      "source": [
        "#fig=px.line(nepal_data,x='Date',y='Cases',\n",
        "#           title='Line graph of nepal cases')\n",
        "#fig.show()"
      ],
      "execution_count": 37,
      "outputs": []
    },
    {
      "cell_type": "code",
      "metadata": {
        "id": "s8iZeOgYW8Cq",
        "colab_type": "code",
        "colab": {}
      },
      "source": [
        "#fig=px.line(nepal_data,x='Date',y='Deaths',\n",
        " #          title='Line graph of nepal Deaths')\n",
        "#fig.show()"
      ],
      "execution_count": 38,
      "outputs": []
    },
    {
      "cell_type": "code",
      "metadata": {
        "id": "8wSNcHogW8C0",
        "colab_type": "code",
        "colab": {}
      },
      "source": [
        "#fig=px.line(nepal_data,x='Date',y=['Deaths','Cases'],\n",
        " #          title='Line graph of nepal Deaths and cases',\n",
        "  #          labels={'variable':'Option',\n",
        "   #                'value':'Totoal Cases'}\n",
        "    #       )\n",
        "#fig.show()"
      ],
      "execution_count": 39,
      "outputs": []
    },
    {
      "cell_type": "code",
      "metadata": {
        "id": "HT8DEYkbW8C_",
        "colab_type": "code",
        "colab": {}
      },
      "source": [
        "def Linechart(country):\n",
        "    data=total_data[total_data['Country']==country]\n",
        "    fig=px.line(data,x='Date',y=['Deaths','Cases'],\n",
        "           title='Line graph of '+ country+' Deaths and cases',\n",
        "            labels={'variable':'Option',\n",
        "                   'value':'Totoal Cases'}\n",
        "           )\n",
        "    return fig.show()"
      ],
      "execution_count": 40,
      "outputs": []
    },
    {
      "cell_type": "code",
      "metadata": {
        "id": "KlgJaTfbW8DH",
        "colab_type": "code",
        "colab": {}
      },
      "source": [
        "#Linechart('Nepal')"
      ],
      "execution_count": 41,
      "outputs": []
    },
    {
      "cell_type": "code",
      "metadata": {
        "id": "Cj4B1LsDW8DQ",
        "colab_type": "code",
        "colab": {}
      },
      "source": [
        "#last_day=total_data[total_data['Date']=='2020-09-01']\n",
        "#last_day=last_day.sort_values('Cases',ascending=False)\n"
      ],
      "execution_count": 42,
      "outputs": []
    },
    {
      "cell_type": "code",
      "metadata": {
        "id": "YUDtn3G4W8Dd",
        "colab_type": "code",
        "colab": {}
      },
      "source": [
        "#fig=px.bar(last_day.head(10),x='Country',y=['Cases','Deaths'],\n",
        "#          title='Top ten country having covid imapct'\n",
        "#          ,hover_name='Continent'\n",
        "#          ,barmode='group')\n",
        "#fig.show()"
      ],
      "execution_count": 43,
      "outputs": []
    },
    {
      "cell_type": "code",
      "metadata": {
        "id": "qh_DjYPjW8Dn",
        "colab_type": "code",
        "colab": {}
      },
      "source": [
        "#fig=px.scatter(last_day,x='Cases',y='Deaths',color='Continent',\n",
        "#              range_x=[100,15000000],\n",
        "#              range_y=[0,300000],\n",
        "#               size='Cases',\n",
        "#               size_max=60,\n",
        "#               hover_name='Country',\n",
        "#               log_x=True\n",
        "               \n",
        " #             )\n",
        "\n",
        "#fig.show()"
      ],
      "execution_count": 44,
      "outputs": []
    },
    {
      "cell_type": "code",
      "metadata": {
        "id": "xYoSDHCPW8Dw",
        "colab_type": "code",
        "colab": {}
      },
      "source": [
        "##data_visual=total_data\n",
        "#data_visual['Date']=data_visual['Date'].astype('str')"
      ],
      "execution_count": 46,
      "outputs": []
    },
    {
      "cell_type": "code",
      "metadata": {
        "id": "_cL9FrLpW8D5",
        "colab_type": "code",
        "colab": {}
      },
      "source": [
        "#fig=px.scatter(data_visual,x='Cases',y='Deaths',color='Continent',\n",
        "#              range_x=[100,15000000],\n",
        "#              range_y=[0,300000],\n",
        "#               size='Cases',\n",
        "#               size_max=60,\n",
        "#               hover_name='Country',\n",
        "#               log_x=True\n",
        "               \n",
        "#              )\n",
        "\n",
        "#fig.show()"
      ],
      "execution_count": 48,
      "outputs": []
    },
    {
      "cell_type": "code",
      "metadata": {
        "id": "EOOUvs3kW8ED",
        "colab_type": "code",
        "colab": {}
      },
      "source": [
        "#fig=px.scatter(data_visual,x='Cases',y='Deaths',color='Continent',\n",
        " #             range_x=[100,15000000],\n",
        "  #            range_y=[0,300000],\n",
        "   #            size='Cases',\n",
        "    #           size_max=60,\n",
        "     #          hover_name='Country',\n",
        "       #        log_x=True,\n",
        "      #         animation_frame='Date',\n",
        "        #       animation_group='Cases'\n",
        "               \n",
        "         #     )\n",
        "\n",
        "#fig.show()"
      ],
      "execution_count": 49,
      "outputs": []
    },
    {
      "cell_type": "code",
      "metadata": {
        "id": "QL-R9XjcW8EO",
        "colab_type": "code",
        "colab": {}
      },
      "source": [
        "#fig=px.choropleth(last_day,\n",
        "#                 locations='Code',\n",
        "#                 color='Cases'\n",
        "#                 ,hover_name='Country',\n",
        "#                 )\n",
        "#fig.show()"
      ],
      "execution_count": 51,
      "outputs": []
    },
    {
      "cell_type": "code",
      "metadata": {
        "id": "rvjmxKzZW8EY",
        "colab_type": "code",
        "colab": {}
      },
      "source": [
        "#fig=px.choropleth(last_day,\n",
        "#                 locations='Code',\n",
        "#                 color='Cases'\n",
        "#                 ,hover_name='Country',\n",
        "#                  projection='natural earth'\n",
        "#                 )\n",
        "#fig.show()"
      ],
      "execution_count": 52,
      "outputs": []
    },
    {
      "cell_type": "code",
      "metadata": {
        "id": "MvRakQsZW8Ek",
        "colab_type": "code",
        "colab": {}
      },
      "source": [
        "#fig=px.choropleth(last_day,\n",
        "#                 locations='Code',\n",
        "#                 color='Cases'\n",
        "#                 ,hover_name='Country',\n",
        "#                  projection='orthographic'\n",
        "#                 )\n",
        "#fig.show()"
      ],
      "execution_count": 53,
      "outputs": []
    },
    {
      "cell_type": "code",
      "metadata": {
        "id": "Zb6KigJcW8Et",
        "colab_type": "code",
        "colab": {}
      },
      "source": [
        "#fig=px.choropleth(data_visual,\n",
        "#                 locations='Code',\n",
        "#                 color='Cases'\n",
        "#                 ,hover_name='Country',\n",
        "#                  projection='natural earth',\n",
        "#                  animation_frame='Date',\n",
        "#                  animation_group='Cases'\n",
        "#                 )\n",
        "#fig.show()"
      ],
      "execution_count": 56,
      "outputs": []
    },
    {
      "cell_type": "code",
      "metadata": {
        "id": "k5PRMeuzW8E-",
        "colab_type": "code",
        "colab": {}
      },
      "source": [
        ""
      ],
      "execution_count": null,
      "outputs": []
    }
  ]
}